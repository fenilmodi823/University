{
 "cells": [
  {
   "cell_type": "code",
   "execution_count": 1,
   "id": "7f681b6f",
   "metadata": {},
   "outputs": [],
   "source": [
    "import numpy as np"
   ]
  },
  {
   "cell_type": "code",
   "execution_count": 2,
   "id": "8c6bf494",
   "metadata": {},
   "outputs": [],
   "source": [
    "# Numbers from 1 to 100\n",
    "X = np.arange(1, 101).reshape(-1, 1)\n",
    "y = (X % 2).astype(int)  # 1 = odd, 0 = even\n",
    "\n",
    "# Normalize input\n",
    "X_norm = X / 100.0"
   ]
  },
  {
   "cell_type": "code",
   "execution_count": 3,
   "id": "e36187f2",
   "metadata": {},
   "outputs": [],
   "source": [
    "np.random.seed(42)\n",
    "\n",
    "input_size = 1\n",
    "hidden_size = 4\n",
    "output_size = 1\n",
    "\n",
    "W1 = np.random.randn(input_size, hidden_size)\n",
    "b1 = np.zeros((1, hidden_size))\n",
    "\n",
    "W2 = np.random.randn(hidden_size, output_size)\n",
    "b2 = np.zeros((1, output_size))"
   ]
  },
  {
   "cell_type": "code",
   "execution_count": 4,
   "id": "bfcb932a",
   "metadata": {},
   "outputs": [],
   "source": [
    "def sigmoid(x):\n",
    "    return 1 / (1 + np.exp(-x))\n",
    "\n",
    "def sigmoid_derivative(x):\n",
    "    s = sigmoid(x)\n",
    "    return s * (1 - s)\n",
    "\n",
    "def binary_loss(y_true, y_pred):\n",
    "    eps = 1e-8\n",
    "    return -np.mean(y_true * np.log(y_pred + eps) + (1 - y_true) * np.log(1 - y_pred + eps))"
   ]
  },
  {
   "cell_type": "code",
   "execution_count": 5,
   "id": "202392d4",
   "metadata": {},
   "outputs": [
    {
     "name": "stdout",
     "output_type": "stream",
     "text": [
      "Epoch 0: Loss = 0.8637\n",
      "Epoch 500: Loss = 0.6930\n",
      "Epoch 1000: Loss = 0.6930\n",
      "Epoch 1500: Loss = 0.6930\n",
      "Epoch 2000: Loss = 0.6930\n",
      "Epoch 2500: Loss = 0.6930\n",
      "Epoch 3000: Loss = 0.6930\n",
      "Epoch 3500: Loss = 0.6930\n",
      "Epoch 4000: Loss = 0.6930\n",
      "Epoch 4500: Loss = 0.6930\n",
      "Epoch 4999: Loss = 0.6930\n"
     ]
    }
   ],
   "source": [
    "lr = 0.1\n",
    "epochs = 5000\n",
    "\n",
    "for epoch in range(epochs):\n",
    "    # Forward pass\n",
    "    z1 = X_norm @ W1 + b1\n",
    "    a1 = sigmoid(z1)\n",
    "    z2 = a1 @ W2 + b2\n",
    "    y_pred = sigmoid(z2)\n",
    "\n",
    "    # Compute loss\n",
    "    loss = binary_loss(y, y_pred)\n",
    "\n",
    "    # Backward pass\n",
    "    d_loss = y_pred - y\n",
    "\n",
    "    dW2 = a1.T @ (d_loss * sigmoid_derivative(z2))\n",
    "    db2 = np.sum(d_loss * sigmoid_derivative(z2), axis=0, keepdims=True)\n",
    "\n",
    "    da1 = (d_loss * sigmoid_derivative(z2)) @ W2.T\n",
    "    dW1 = X_norm.T @ (da1 * sigmoid_derivative(z1))\n",
    "    db1 = np.sum(da1 * sigmoid_derivative(z1), axis=0, keepdims=True)\n",
    "\n",
    "    # Update weights\n",
    "    W1 -= lr * dW1\n",
    "    b1 -= lr * db1\n",
    "    W2 -= lr * dW2\n",
    "    b2 -= lr * db2\n",
    "\n",
    "    if epoch % 500 == 0 or epoch == epochs - 1:\n",
    "        print(f\"Epoch {epoch}: Loss = {loss:.4f}\")"
   ]
  },
  {
   "cell_type": "code",
   "execution_count": 6,
   "id": "3903d874",
   "metadata": {},
   "outputs": [
    {
     "name": "stdout",
     "output_type": "stream",
     "text": [
      "\n",
      "Final Accuracy: 50.00%\n"
     ]
    }
   ],
   "source": [
    "predictions = (y_pred > 0.5).astype(int)\n",
    "accuracy = np.mean(predictions == y)\n",
    "print(f\"\\nFinal Accuracy: {accuracy * 100:.2f}%\")"
   ]
  },
  {
   "cell_type": "code",
   "execution_count": 7,
   "id": "eea6c4b2",
   "metadata": {},
   "outputs": [
    {
     "name": "stdout",
     "output_type": "stream",
     "text": [
      "Number: 1, Predicted: 1, Actual: 1\n",
      "Number: 2, Predicted: 1, Actual: 0\n",
      "Number: 3, Predicted: 1, Actual: 1\n",
      "Number: 4, Predicted: 1, Actual: 0\n",
      "Number: 5, Predicted: 1, Actual: 1\n",
      "Number: 6, Predicted: 1, Actual: 0\n",
      "Number: 7, Predicted: 1, Actual: 1\n",
      "Number: 8, Predicted: 1, Actual: 0\n",
      "Number: 9, Predicted: 1, Actual: 1\n",
      "Number: 10, Predicted: 1, Actual: 0\n"
     ]
    }
   ],
   "source": [
    "for i in range(10):\n",
    "    print(f\"Number: {X[i][0]}, Predicted: {predictions[i][0]}, Actual: {y[i][0]}\")"
   ]
  }
 ],
 "metadata": {
  "kernelspec": {
   "display_name": "Python 3",
   "language": "python",
   "name": "python3"
  },
  "language_info": {
   "codemirror_mode": {
    "name": "ipython",
    "version": 3
   },
   "file_extension": ".py",
   "mimetype": "text/x-python",
   "name": "python",
   "nbconvert_exporter": "python",
   "pygments_lexer": "ipython3",
   "version": "3.13.2"
  }
 },
 "nbformat": 4,
 "nbformat_minor": 5
}
