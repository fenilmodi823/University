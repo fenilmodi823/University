{
 "cells": [
  {
   "cell_type": "code",
   "execution_count": 6,
   "id": "aeffd9da",
   "metadata": {},
   "outputs": [],
   "source": [
    "import torch\n",
    "import torch.nn as nn\n",
    "import torch.optim as optim\n",
    "import numpy as np"
   ]
  },
  {
   "cell_type": "code",
   "execution_count": 7,
   "id": "fea0beb5",
   "metadata": {},
   "outputs": [],
   "source": [
    "# Input: numbers 1 to 100\n",
    "X = np.arange(1, 101).reshape(-1, 1)\n",
    "y = (X % 2 == 1).astype(np.float32)  # 1 for odd, 0 for even\n",
    "\n",
    "X_tensor = torch.tensor(X / 100.0, dtype=torch.float32)  # normalize here\n",
    "y_tensor = torch.tensor(y, dtype=torch.float32)\n"
   ]
  },
  {
   "cell_type": "code",
   "execution_count": 8,
   "id": "7d318960",
   "metadata": {},
   "outputs": [],
   "source": [
    "class OddEvenNN(nn.Module):\n",
    "    def __init__(self):\n",
    "        super(OddEvenNN, self).__init__()\n",
    "        self.hidden = nn.Linear(1, 4)     # 1 input → 4 hidden\n",
    "        self.output = nn.Linear(4, 1)     # 4 hidden → 1 output\n",
    "        self.sigmoid = nn.Sigmoid()\n",
    "\n",
    "    def forward(self, x):\n",
    "        x = self.sigmoid(self.hidden(x))\n",
    "        x = self.sigmoid(self.output(x))\n",
    "        return x"
   ]
  },
  {
   "cell_type": "code",
   "execution_count": 9,
   "id": "e40c895d",
   "metadata": {},
   "outputs": [],
   "source": [
    "model = OddEvenNN()\n",
    "criterion = nn.BCELoss()  # Binary Cross-Entropy Loss\n",
    "optimizer = optim.SGD(model.parameters(), lr=0.1)"
   ]
  },
  {
   "cell_type": "code",
   "execution_count": 10,
   "id": "de846fab",
   "metadata": {},
   "outputs": [
    {
     "name": "stdout",
     "output_type": "stream",
     "text": [
      "Epoch 0, Loss: 0.7046\n",
      "Epoch 500, Loss: 0.6930\n",
      "Epoch 1000, Loss: 0.6930\n",
      "Epoch 1500, Loss: 0.6930\n",
      "Epoch 2000, Loss: 0.6930\n",
      "Epoch 2500, Loss: 0.6930\n",
      "Epoch 3000, Loss: 0.6930\n",
      "Epoch 3500, Loss: 0.6930\n",
      "Epoch 4000, Loss: 0.6930\n",
      "Epoch 4500, Loss: 0.6930\n",
      "Epoch 4999, Loss: 0.6930\n"
     ]
    }
   ],
   "source": [
    "epochs = 5000\n",
    "\n",
    "for epoch in range(epochs):\n",
    "    # Forward pass\n",
    "    outputs = model(X_tensor)\n",
    "    loss = criterion(outputs, y_tensor)\n",
    "\n",
    "    # Backward pass and optimization\n",
    "    optimizer.zero_grad()\n",
    "    loss.backward()\n",
    "    optimizer.step()\n",
    "\n",
    "    if epoch % 500 == 0 or epoch == epochs - 1:\n",
    "        print(f\"Epoch {epoch}, Loss: {loss.item():.4f}\")"
   ]
  },
  {
   "cell_type": "code",
   "execution_count": 11,
   "id": "40546f5d",
   "metadata": {},
   "outputs": [
    {
     "name": "stdout",
     "output_type": "stream",
     "text": [
      "\n",
      "Final Accuracy: 51.00%\n"
     ]
    }
   ],
   "source": [
    "with torch.no_grad():\n",
    "    predictions = (model(X_tensor) > 0.5).float()\n",
    "    accuracy = (predictions == y_tensor).float().mean()\n",
    "    print(f\"\\nFinal Accuracy: {accuracy.item() * 100:.2f}%\")"
   ]
  },
  {
   "cell_type": "code",
   "execution_count": 12,
   "id": "b54305d0",
   "metadata": {},
   "outputs": [
    {
     "name": "stdout",
     "output_type": "stream",
     "text": [
      "Number: 100, Predicted: 1, Actual: 1\n",
      "Number: 200, Predicted: 1, Actual: 0\n",
      "Number: 300, Predicted: 1, Actual: 1\n",
      "Number: 400, Predicted: 1, Actual: 0\n",
      "Number: 500, Predicted: 1, Actual: 1\n",
      "Number: 600, Predicted: 1, Actual: 0\n",
      "Number: 700, Predicted: 1, Actual: 1\n",
      "Number: 800, Predicted: 1, Actual: 0\n",
      "Number: 900, Predicted: 1, Actual: 1\n",
      "Number: 1000, Predicted: 1, Actual: 0\n"
     ]
    }
   ],
   "source": [
    "for i in range(10):\n",
    "    num = int(X[i][0] * 100)\n",
    "    pred = int(predictions[i].item())\n",
    "    actual = int(y_tensor[i].item())\n",
    "    print(f\"Number: {num}, Predicted: {pred}, Actual: {actual}\")"
   ]
  }
 ],
 "metadata": {
  "kernelspec": {
   "display_name": "Python 3",
   "language": "python",
   "name": "python3"
  },
  "language_info": {
   "codemirror_mode": {
    "name": "ipython",
    "version": 3
   },
   "file_extension": ".py",
   "mimetype": "text/x-python",
   "name": "python",
   "nbconvert_exporter": "python",
   "pygments_lexer": "ipython3",
   "version": "3.13.2"
  }
 },
 "nbformat": 4,
 "nbformat_minor": 5
}
